{
 "cells": [
  {
   "cell_type": "markdown",
   "metadata": {},
   "source": [
    "Run the program. Test the values 2 and 9. Did the program report that they were not prime?\n",
    "\n",
    "Enter -1 to quit. Did it quit correctly? Did it report that there were 0 prime numbers?\n",
    "Run the program again. Lets try the value 7. Does it report that 7 is a prime number?\n",
    "Lets put a break point in to find out why. Add a break point right at the for loop. Run the program again and enter the value 7 again.\n",
    "When the break point stops, step over the code. What are the values of i when the if statement is true?\n",
    "The definition of a prime number is that it is only divisible by 1 and itself. Therefore we do not want to test the value 1.\n",
    "Modify the range of the for loop accordingly.\n",
    "Test the program again. Enter the value 5, does it show that it is prime?\n",
    "Now enter the value 6? Does it show that it is not prime?\n",
    "Do not stop the program, but test the value 5 a second time. Does it still show that 5 is prime?\n",
    "Maybe another break point would help us figure out why is showing prime the first time but not the second time. Stop the program. Add a break point at the while loop, then run the program again. Enter the value 6. When the program stops, what is the value of the variable isPrime?\n",
    "Step over the for loop. When does the value of isPrime change?\n",
    "Keep stepping over the code till you get to the input statement. This time enter a prime number.. 5. What is the value of isPrime at this point in the code?\n",
    "Step back up to the while loop, is the value still false? Keep stepping through the code. Does the code ever get to a place to set the variable isPrime back to true? That is our issue, once the variable becomes false, it never becomes true again.\n",
    "Add a statement to make it true inside the while loop. Test the program again. Enter the following values 5 7 9 11 13 15 18 -1. Did you get a prime count of 4?"
   ]
  },
  {
   "cell_type": "code",
   "execution_count": 1,
   "metadata": {},
   "outputs": [],
   "source": [
    "#Keeps track of the amount of prime numbers the user enters\n",
    "num = int(input(\"Enter a positive value: -1 to quit\"))\n",
    "primeCount = 0\n",
    "isPrime = True\n",
    "while num > 0:\n",
    "  if num > 0:\n",
    "    for i in range(1, num):\n",
    "      if num % i == 0:\n",
    "        isPrime = False\n",
    "  if isPrime:\n",
    "    print(num, \"is prime\")\n",
    "    primeCount += 1\n",
    "  else:\n",
    "    print(num, \"is not prime\")\n",
    "  num = int(input(\"Enter a positive value: -1 to quit\"))\n",
    "\n",
    "print(\"Prime Count: \", primeCount)"
   ]
  }
 ],
 "metadata": {
  "kernelspec": {
   "display_name": "Python 3",
   "language": "python",
   "name": "python3"
  },
  "language_info": {
   "codemirror_mode": {
    "name": "ipython",
    "version": 3
   },
   "file_extension": ".py",
   "mimetype": "text/x-python",
   "name": "python",
   "nbconvert_exporter": "python",
   "pygments_lexer": "ipython3",
   "version": "3.10.8"
  },
  "orig_nbformat": 4
 },
 "nbformat": 4,
 "nbformat_minor": 2
}
